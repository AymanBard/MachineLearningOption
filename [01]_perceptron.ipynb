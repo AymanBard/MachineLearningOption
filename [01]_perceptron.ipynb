{
  "nbformat": 4,
  "nbformat_minor": 0,
  "metadata": {
    "colab": {
      "provenance": [],
      "include_colab_link": true
    },
    "kernelspec": {
      "name": "python3",
      "display_name": "Python 3"
    },
    "language_info": {
      "name": "python"
    }
  },
  "cells": [
    {
      "cell_type": "markdown",
      "metadata": {
        "id": "view-in-github",
        "colab_type": "text"
      },
      "source": [
        "<a href=\"https://colab.research.google.com/github/AymanBard/MachineLearningOption/blob/main/%5B01%5D_perceptron.ipynb\" target=\"_parent\"><img src=\"https://colab.research.google.com/assets/colab-badge.svg\" alt=\"Open In Colab\"/></a>"
      ]
    },
    {
      "cell_type": "markdown",
      "source": [
        "# Le perceptron\n"
      ],
      "metadata": {
        "id": "lO5FuNGOJGb3"
      }
    },
    {
      "cell_type": "markdown",
      "source": [
        "## Données `Iris`\n",
        "On commence par récupérer les données à classifier `Iris`. Les attributs (longueur et largeur de la sépale) seront dans $\\mathbb{R}^2$, et pour chaque point $x_i \\in \\mathbb{R}^2$, il faudra prédire sa classe d'appartenance $y_i \\in \\{-1, 1\\}$, où $-1$ correspond à la fleur `Iris Setosa` et $1$ à `Iris Versicolor`."
      ],
      "metadata": {
        "id": "YHWnq2hBJgT3"
      }
    },
    {
      "cell_type": "code",
      "source": [
        "from sklearn import datasets\n",
        "\n",
        "donnees = datasets.load_iris()\n",
        "filtre = donnees['target'] != 2  # Initialement le jeu de données contient une troisième classe, Iris-Virginica, qu'on ignore\n",
        "attributs = donnees['data'][filtre, :2]  # Initialement le jeu de données contient deux autres attributs, longueur et largeur de la pétale, qu'on ignore\n",
        "classes = donnees['target'][filtre]\n",
        "classes[classes == 0] = -1  # On remplace la classe 0 par -1\n",
        "pos_class = classes == 1"
      ],
      "metadata": {
        "id": "rV-kFFcWmF9e"
      },
      "execution_count": null,
      "outputs": []
    },
    {
      "cell_type": "code",
      "source": [
        "donnees['target']"
      ],
      "metadata": {
        "id": "On9SDGTWwhId"
      },
      "execution_count": null,
      "outputs": []
    },
    {
      "cell_type": "code",
      "source": [
        "donnees['data']"
      ],
      "metadata": {
        "id": "DrlOPTYuwvWk"
      },
      "execution_count": null,
      "outputs": []
    },
    {
      "cell_type": "code",
      "source": [
        "print('nombre de donnes', len(attributs))"
      ],
      "metadata": {
        "id": "OAp2NuGKpDqb"
      },
      "execution_count": null,
      "outputs": []
    },
    {
      "cell_type": "code",
      "source": [
        "print('attributs des donnes', attributs)"
      ],
      "metadata": {
        "id": "dT0tm_IrznZ1",
        "collapsed": true
      },
      "execution_count": null,
      "outputs": []
    },
    {
      "cell_type": "code",
      "source": [
        "print('classes des donnes', classes)"
      ],
      "metadata": {
        "id": "oNsQvUZnzoUk"
      },
      "execution_count": null,
      "outputs": []
    },
    {
      "cell_type": "code",
      "source": [
        "import matplotlib.pyplot as plt\n",
        "plt.plot(attributs[~pos_class, 0], attributs[~pos_class, 1], '*b')\n",
        "plt.plot(attributs[pos_class, 0], attributs[pos_class, 1], '*r')\n",
        "plt.legend(['Iris Setosa', 'Iris Versicolor'])\n",
        "plt.xlabel('Longueur sépale')\n",
        "plt.ylabel('Largeur sépale')\n",
        "plt.show()"
      ],
      "metadata": {
        "id": "S7i7wS2_ndKX"
      },
      "execution_count": null,
      "outputs": []
    },
    {
      "cell_type": "markdown",
      "source": [
        "## Initialisation et affichage d'un neurone formel"
      ],
      "metadata": {
        "id": "wv1Bv8JX2xA5"
      }
    },
    {
      "cell_type": "code",
      "source": [
        "import numpy as np\n",
        "\n",
        "# On génère des poids d'un neurone formel aléatoirement\n",
        "w = np.random.randn(2)\n",
        "b = np.random.randn(1)"
      ],
      "metadata": {
        "id": "S6ykjCszF-lG"
      },
      "execution_count": null,
      "outputs": []
    },
    {
      "cell_type": "code",
      "source": [
        "# On visualise les données et la ligne séparatrice produite par le neurone formel\n",
        "plt.plot(attributs[pos_class, 0], attributs[pos_class, 1], '*b')\n",
        "plt.plot(attributs[~pos_class, 0], attributs[~pos_class, 1], '*r')\n",
        "o = np.arange(np.min(attributs[:, 0]) - 1, np.max(attributs[:, 0]) + 1, .1)\n",
        "a = -(w[0] * o + b) / w[1]\n",
        "plt.plot(o, a, '-g')\n",
        "plt.legend(['Classe négative', 'Classe positive', 'Neurone formel'])\n",
        "plt.show()"
      ],
      "metadata": {
        "id": "eQt3oYkCLQgi"
      },
      "execution_count": null,
      "outputs": []
    },
    {
      "cell_type": "markdown",
      "source": [
        "## Exercices\n",
        "\n",
        "### 1\n",
        "Pour une certaine donnée $x_i$, afficher la classe $\\hat{y}_i$ prédite par le neurone formel. Pour ce faire vous pouvez utiliser la fonction `np.dot` qui calcule le produit scalaire entre deux vecteurs, et `np.sign` qui retourne le signe d'un réel.\n",
        "\n",
        "\n"
      ],
      "metadata": {
        "id": "EX8AgFGGL0Qw"
      }
    },
    {
      "cell_type": "code",
      "source": [
        "'''             Exemple d'utilisation de np.dot et np.sign           '''\n",
        "\n",
        "print('x_3', attributs[3])  # La quatrième donnée\n",
        "print(f'Produit scalaire entre x_3 et x_3 = {np.dot(attributs[3], attributs[3])}')\n",
        "print('Test de la fonction signe : ', np.sign(-9.34), np.sign(0.25))"
      ],
      "metadata": {
        "id": "H4dDfIMZPfLq"
      },
      "execution_count": null,
      "outputs": []
    },
    {
      "cell_type": "code",
      "source": [
        "i = 5\n",
        "prediction_xi = 'A REMPLACER PAR DU CODE'\n",
        "print(f'donnée x_{i} : {attributs[i]}')\n",
        "print(f'classe y_{i} : {classes[i]}')\n",
        "print(f'classe prédite : {prediction_xi}')"
      ],
      "metadata": {
        "id": "_zgGrj51Lzbo"
      },
      "execution_count": null,
      "outputs": []
    },
    {
      "cell_type": "markdown",
      "source": [
        "### 2\n",
        "Compter le nombre de mauvaises classifications. Est-ce que cela correspond à un décompte visuel sur le graphique plus haut?"
      ],
      "metadata": {
        "id": "QFux-sHqRumt"
      }
    },
    {
      "cell_type": "markdown",
      "source": [
        "### 3\n",
        "Coder l'algorithme du perceptron puis visualiser le résultat. Augmenter le nombre d'itérations jusqu'à ce que toutes les données soient bien classées."
      ],
      "metadata": {
        "id": "-F1bkp76SgwR"
      }
    },
    {
      "cell_type": "markdown",
      "source": [
        "### 4\n",
        "\n",
        "Partant de $\\theta_0 = (b_0, w_0) = 0$, lancer l'algorithme du perceptron et après chaque mise à jour $k$ où $(x^{k}, y^{k})$ est la donnée mal classée ayant provoqué la mise à jour\n",
        "- Verifier si $y^{k}(w_{t+1}\\cdot x^{k} + b_{t+1}) > y^{k}(w_{t}\\cdot x^{k} + b_{t})$.\n",
        "- Vérifier si $y^{k'}(w_{t+1}\\cdot x^{k'} + b_{t+1}) > y^{k'}(w_{t}\\cdot x^{k'} + b_{t})$ pour tout $k' \\neq k$"
      ],
      "metadata": {
        "id": "gI3UBCtibClH"
      }
    },
    {
      "cell_type": "markdown",
      "source": [
        "### 5\n",
        "\n",
        "Relancer votre code avec les données ci-dessous, générées aléatoirement. Vérifier que le Perceptron trouve un classifieur pour ces données."
      ],
      "metadata": {
        "id": "UelezZ9a1_40"
      }
    },
    {
      "cell_type": "code",
      "source": [
        "data_per_class = 15  # on génère 15 points par classe\n",
        "attributs = np.vstack([np.random.randn(data_per_class, 2) + np.array([[0, 3]]), np.random.randn(data_per_class, 2) + np.array([[3, 0]])])\n",
        "classes = np.hstack([np.ones(data_per_class), -1 * np.ones(data_per_class)])\n",
        "pos_class = classes == 1"
      ],
      "metadata": {
        "id": "D8T1w2Vv1-cM"
      },
      "execution_count": null,
      "outputs": []
    },
    {
      "cell_type": "markdown",
      "source": [
        "### 6\n",
        "\n",
        "Modifier les attributs d'une des données de sorte que les données ne soient plus linéairement séparables. Vérifier que la solution retournée par le Perceptron ne classifie plus toutes les données correctement."
      ],
      "metadata": {
        "id": "fdiUlSx_esE4"
      }
    }
  ]
}