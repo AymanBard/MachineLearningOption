{
  "nbformat": 4,
  "nbformat_minor": 0,
  "metadata": {
    "colab": {
      "provenance": [],
      "include_colab_link": true
    },
    "kernelspec": {
      "name": "python3",
      "display_name": "Python 3"
    },
    "language_info": {
      "name": "python"
    }
  },
  "cells": [
    {
      "cell_type": "markdown",
      "metadata": {
        "id": "view-in-github",
        "colab_type": "text"
      },
      "source": [
        "<a href=\"https://colab.research.google.com/github/AymanBard/MachineLearningOption/blob/main/%5B01%5D_perceptron.ipynb\" target=\"_parent\"><img src=\"https://colab.research.google.com/assets/colab-badge.svg\" alt=\"Open In Colab\"/></a>"
      ]
    },
    {
      "cell_type": "markdown",
      "source": [
        "# Le perceptron\n"
      ],
      "metadata": {
        "id": "lO5FuNGOJGb3"
      }
    },
    {
      "cell_type": "markdown",
      "source": [
        "## Données `Iris`\n",
        "On commence par récupérer les données à classifier `Iris`. Les attributs (longueur et largeur de la sépale) seront dans $\\mathbb{R}^2$, et pour chaque point $x_i \\in \\mathbb{R}^2$, il faudra prédire sa classe d'appartenance $y_i \\in \\{-1, 1\\}$, où $-1$ correspond à la fleur `Iris Setosa` et $1$ à `Iris Versicolor`."
      ],
      "metadata": {
        "id": "YHWnq2hBJgT3"
      }
    },
    {
      "cell_type": "code",
      "source": [
        "from sklearn import datasets\n",
        "\n",
        "donnees = datasets.load_iris()\n",
        "filtre = donnees['target'] != 2  # Initialement le jeu de données contient une troisième classe, Iris-Virginica, qu'on ignore\n",
        "attributs = donnees['data'][filtre, :2]  # Initialement le jeu de données contient deux autres attributs, longueur et largeur de la pétale, qu'on ignore\n",
        "classes = donnees['target'][filtre]\n",
        "classes[classes == 0] = -1  # On remplace la classe 0 par -1\n",
        "pos_class = classes == 1"
      ],
      "metadata": {
        "id": "rV-kFFcWmF9e"
      },
      "execution_count": 1,
      "outputs": []
    },
    {
      "cell_type": "code",
      "source": [
        "donnees['target']"
      ],
      "metadata": {
        "id": "On9SDGTWwhId",
        "colab": {
          "base_uri": "https://localhost:8080/"
        },
        "outputId": "9456c8e2-4f9c-47a6-9afb-716ec87430e5"
      },
      "execution_count": 3,
      "outputs": [
        {
          "output_type": "execute_result",
          "data": {
            "text/plain": [
              "array([0, 0, 0, 0, 0, 0, 0, 0, 0, 0, 0, 0, 0, 0, 0, 0, 0, 0, 0, 0, 0, 0,\n",
              "       0, 0, 0, 0, 0, 0, 0, 0, 0, 0, 0, 0, 0, 0, 0, 0, 0, 0, 0, 0, 0, 0,\n",
              "       0, 0, 0, 0, 0, 0, 1, 1, 1, 1, 1, 1, 1, 1, 1, 1, 1, 1, 1, 1, 1, 1,\n",
              "       1, 1, 1, 1, 1, 1, 1, 1, 1, 1, 1, 1, 1, 1, 1, 1, 1, 1, 1, 1, 1, 1,\n",
              "       1, 1, 1, 1, 1, 1, 1, 1, 1, 1, 1, 1, 2, 2, 2, 2, 2, 2, 2, 2, 2, 2,\n",
              "       2, 2, 2, 2, 2, 2, 2, 2, 2, 2, 2, 2, 2, 2, 2, 2, 2, 2, 2, 2, 2, 2,\n",
              "       2, 2, 2, 2, 2, 2, 2, 2, 2, 2, 2, 2, 2, 2, 2, 2, 2, 2])"
            ]
          },
          "metadata": {},
          "execution_count": 3
        }
      ]
    },
    {
      "cell_type": "code",
      "source": [
        "donnees['data']"
      ],
      "metadata": {
        "id": "DrlOPTYuwvWk",
        "collapsed": true,
        "colab": {
          "base_uri": "https://localhost:8080/"
        },
        "outputId": "73db222d-a58e-4bb5-de58-4511cdfbea54"
      },
      "execution_count": 5,
      "outputs": [
        {
          "output_type": "execute_result",
          "data": {
            "text/plain": [
              "array([[5.1, 3.5, 1.4, 0.2],\n",
              "       [4.9, 3. , 1.4, 0.2],\n",
              "       [4.7, 3.2, 1.3, 0.2],\n",
              "       [4.6, 3.1, 1.5, 0.2],\n",
              "       [5. , 3.6, 1.4, 0.2],\n",
              "       [5.4, 3.9, 1.7, 0.4],\n",
              "       [4.6, 3.4, 1.4, 0.3],\n",
              "       [5. , 3.4, 1.5, 0.2],\n",
              "       [4.4, 2.9, 1.4, 0.2],\n",
              "       [4.9, 3.1, 1.5, 0.1],\n",
              "       [5.4, 3.7, 1.5, 0.2],\n",
              "       [4.8, 3.4, 1.6, 0.2],\n",
              "       [4.8, 3. , 1.4, 0.1],\n",
              "       [4.3, 3. , 1.1, 0.1],\n",
              "       [5.8, 4. , 1.2, 0.2],\n",
              "       [5.7, 4.4, 1.5, 0.4],\n",
              "       [5.4, 3.9, 1.3, 0.4],\n",
              "       [5.1, 3.5, 1.4, 0.3],\n",
              "       [5.7, 3.8, 1.7, 0.3],\n",
              "       [5.1, 3.8, 1.5, 0.3],\n",
              "       [5.4, 3.4, 1.7, 0.2],\n",
              "       [5.1, 3.7, 1.5, 0.4],\n",
              "       [4.6, 3.6, 1. , 0.2],\n",
              "       [5.1, 3.3, 1.7, 0.5],\n",
              "       [4.8, 3.4, 1.9, 0.2],\n",
              "       [5. , 3. , 1.6, 0.2],\n",
              "       [5. , 3.4, 1.6, 0.4],\n",
              "       [5.2, 3.5, 1.5, 0.2],\n",
              "       [5.2, 3.4, 1.4, 0.2],\n",
              "       [4.7, 3.2, 1.6, 0.2],\n",
              "       [4.8, 3.1, 1.6, 0.2],\n",
              "       [5.4, 3.4, 1.5, 0.4],\n",
              "       [5.2, 4.1, 1.5, 0.1],\n",
              "       [5.5, 4.2, 1.4, 0.2],\n",
              "       [4.9, 3.1, 1.5, 0.2],\n",
              "       [5. , 3.2, 1.2, 0.2],\n",
              "       [5.5, 3.5, 1.3, 0.2],\n",
              "       [4.9, 3.6, 1.4, 0.1],\n",
              "       [4.4, 3. , 1.3, 0.2],\n",
              "       [5.1, 3.4, 1.5, 0.2],\n",
              "       [5. , 3.5, 1.3, 0.3],\n",
              "       [4.5, 2.3, 1.3, 0.3],\n",
              "       [4.4, 3.2, 1.3, 0.2],\n",
              "       [5. , 3.5, 1.6, 0.6],\n",
              "       [5.1, 3.8, 1.9, 0.4],\n",
              "       [4.8, 3. , 1.4, 0.3],\n",
              "       [5.1, 3.8, 1.6, 0.2],\n",
              "       [4.6, 3.2, 1.4, 0.2],\n",
              "       [5.3, 3.7, 1.5, 0.2],\n",
              "       [5. , 3.3, 1.4, 0.2],\n",
              "       [7. , 3.2, 4.7, 1.4],\n",
              "       [6.4, 3.2, 4.5, 1.5],\n",
              "       [6.9, 3.1, 4.9, 1.5],\n",
              "       [5.5, 2.3, 4. , 1.3],\n",
              "       [6.5, 2.8, 4.6, 1.5],\n",
              "       [5.7, 2.8, 4.5, 1.3],\n",
              "       [6.3, 3.3, 4.7, 1.6],\n",
              "       [4.9, 2.4, 3.3, 1. ],\n",
              "       [6.6, 2.9, 4.6, 1.3],\n",
              "       [5.2, 2.7, 3.9, 1.4],\n",
              "       [5. , 2. , 3.5, 1. ],\n",
              "       [5.9, 3. , 4.2, 1.5],\n",
              "       [6. , 2.2, 4. , 1. ],\n",
              "       [6.1, 2.9, 4.7, 1.4],\n",
              "       [5.6, 2.9, 3.6, 1.3],\n",
              "       [6.7, 3.1, 4.4, 1.4],\n",
              "       [5.6, 3. , 4.5, 1.5],\n",
              "       [5.8, 2.7, 4.1, 1. ],\n",
              "       [6.2, 2.2, 4.5, 1.5],\n",
              "       [5.6, 2.5, 3.9, 1.1],\n",
              "       [5.9, 3.2, 4.8, 1.8],\n",
              "       [6.1, 2.8, 4. , 1.3],\n",
              "       [6.3, 2.5, 4.9, 1.5],\n",
              "       [6.1, 2.8, 4.7, 1.2],\n",
              "       [6.4, 2.9, 4.3, 1.3],\n",
              "       [6.6, 3. , 4.4, 1.4],\n",
              "       [6.8, 2.8, 4.8, 1.4],\n",
              "       [6.7, 3. , 5. , 1.7],\n",
              "       [6. , 2.9, 4.5, 1.5],\n",
              "       [5.7, 2.6, 3.5, 1. ],\n",
              "       [5.5, 2.4, 3.8, 1.1],\n",
              "       [5.5, 2.4, 3.7, 1. ],\n",
              "       [5.8, 2.7, 3.9, 1.2],\n",
              "       [6. , 2.7, 5.1, 1.6],\n",
              "       [5.4, 3. , 4.5, 1.5],\n",
              "       [6. , 3.4, 4.5, 1.6],\n",
              "       [6.7, 3.1, 4.7, 1.5],\n",
              "       [6.3, 2.3, 4.4, 1.3],\n",
              "       [5.6, 3. , 4.1, 1.3],\n",
              "       [5.5, 2.5, 4. , 1.3],\n",
              "       [5.5, 2.6, 4.4, 1.2],\n",
              "       [6.1, 3. , 4.6, 1.4],\n",
              "       [5.8, 2.6, 4. , 1.2],\n",
              "       [5. , 2.3, 3.3, 1. ],\n",
              "       [5.6, 2.7, 4.2, 1.3],\n",
              "       [5.7, 3. , 4.2, 1.2],\n",
              "       [5.7, 2.9, 4.2, 1.3],\n",
              "       [6.2, 2.9, 4.3, 1.3],\n",
              "       [5.1, 2.5, 3. , 1.1],\n",
              "       [5.7, 2.8, 4.1, 1.3],\n",
              "       [6.3, 3.3, 6. , 2.5],\n",
              "       [5.8, 2.7, 5.1, 1.9],\n",
              "       [7.1, 3. , 5.9, 2.1],\n",
              "       [6.3, 2.9, 5.6, 1.8],\n",
              "       [6.5, 3. , 5.8, 2.2],\n",
              "       [7.6, 3. , 6.6, 2.1],\n",
              "       [4.9, 2.5, 4.5, 1.7],\n",
              "       [7.3, 2.9, 6.3, 1.8],\n",
              "       [6.7, 2.5, 5.8, 1.8],\n",
              "       [7.2, 3.6, 6.1, 2.5],\n",
              "       [6.5, 3.2, 5.1, 2. ],\n",
              "       [6.4, 2.7, 5.3, 1.9],\n",
              "       [6.8, 3. , 5.5, 2.1],\n",
              "       [5.7, 2.5, 5. , 2. ],\n",
              "       [5.8, 2.8, 5.1, 2.4],\n",
              "       [6.4, 3.2, 5.3, 2.3],\n",
              "       [6.5, 3. , 5.5, 1.8],\n",
              "       [7.7, 3.8, 6.7, 2.2],\n",
              "       [7.7, 2.6, 6.9, 2.3],\n",
              "       [6. , 2.2, 5. , 1.5],\n",
              "       [6.9, 3.2, 5.7, 2.3],\n",
              "       [5.6, 2.8, 4.9, 2. ],\n",
              "       [7.7, 2.8, 6.7, 2. ],\n",
              "       [6.3, 2.7, 4.9, 1.8],\n",
              "       [6.7, 3.3, 5.7, 2.1],\n",
              "       [7.2, 3.2, 6. , 1.8],\n",
              "       [6.2, 2.8, 4.8, 1.8],\n",
              "       [6.1, 3. , 4.9, 1.8],\n",
              "       [6.4, 2.8, 5.6, 2.1],\n",
              "       [7.2, 3. , 5.8, 1.6],\n",
              "       [7.4, 2.8, 6.1, 1.9],\n",
              "       [7.9, 3.8, 6.4, 2. ],\n",
              "       [6.4, 2.8, 5.6, 2.2],\n",
              "       [6.3, 2.8, 5.1, 1.5],\n",
              "       [6.1, 2.6, 5.6, 1.4],\n",
              "       [7.7, 3. , 6.1, 2.3],\n",
              "       [6.3, 3.4, 5.6, 2.4],\n",
              "       [6.4, 3.1, 5.5, 1.8],\n",
              "       [6. , 3. , 4.8, 1.8],\n",
              "       [6.9, 3.1, 5.4, 2.1],\n",
              "       [6.7, 3.1, 5.6, 2.4],\n",
              "       [6.9, 3.1, 5.1, 2.3],\n",
              "       [5.8, 2.7, 5.1, 1.9],\n",
              "       [6.8, 3.2, 5.9, 2.3],\n",
              "       [6.7, 3.3, 5.7, 2.5],\n",
              "       [6.7, 3. , 5.2, 2.3],\n",
              "       [6.3, 2.5, 5. , 1.9],\n",
              "       [6.5, 3. , 5.2, 2. ],\n",
              "       [6.2, 3.4, 5.4, 2.3],\n",
              "       [5.9, 3. , 5.1, 1.8]])"
            ]
          },
          "metadata": {},
          "execution_count": 5
        }
      ]
    },
    {
      "cell_type": "code",
      "source": [
        "print('nombre de donnes', len(attributs))"
      ],
      "metadata": {
        "id": "OAp2NuGKpDqb",
        "colab": {
          "base_uri": "https://localhost:8080/"
        },
        "outputId": "d0cda0fb-8e60-4c41-d3ef-fcbc6ba1c02e"
      },
      "execution_count": 4,
      "outputs": [
        {
          "output_type": "stream",
          "name": "stdout",
          "text": [
            "nombre de donnes 100\n"
          ]
        }
      ]
    },
    {
      "cell_type": "code",
      "source": [
        "print('attributs des donnes', attributs)"
      ],
      "metadata": {
        "id": "dT0tm_IrznZ1",
        "colab": {
          "base_uri": "https://localhost:8080/"
        },
        "outputId": "ab311dec-f25b-4eb0-d57c-1a65c43e2ff9"
      },
      "execution_count": 24,
      "outputs": [
        {
          "output_type": "stream",
          "name": "stdout",
          "text": [
            "attributs des donnes [[5.1 3.5]\n",
            " [4.9 3. ]\n",
            " [4.7 3.2]\n",
            " [4.6 3.1]\n",
            " [5.  3.6]\n",
            " [5.4 3.9]\n",
            " [4.6 3.4]\n",
            " [5.  3.4]\n",
            " [4.4 2.9]\n",
            " [4.9 3.1]\n",
            " [5.4 3.7]\n",
            " [4.8 3.4]\n",
            " [4.8 3. ]\n",
            " [4.3 3. ]\n",
            " [5.8 4. ]\n",
            " [5.7 4.4]\n",
            " [5.4 3.9]\n",
            " [5.1 3.5]\n",
            " [5.7 3.8]\n",
            " [5.1 3.8]\n",
            " [5.4 3.4]\n",
            " [5.1 3.7]\n",
            " [4.6 3.6]\n",
            " [5.1 3.3]\n",
            " [4.8 3.4]\n",
            " [5.  3. ]\n",
            " [5.  3.4]\n",
            " [5.2 3.5]\n",
            " [5.2 3.4]\n",
            " [4.7 3.2]\n",
            " [4.8 3.1]\n",
            " [5.4 3.4]\n",
            " [5.2 4.1]\n",
            " [5.5 4.2]\n",
            " [4.9 3.1]\n",
            " [5.  3.2]\n",
            " [5.5 3.5]\n",
            " [4.9 3.6]\n",
            " [4.4 3. ]\n",
            " [5.1 3.4]\n",
            " [5.  3.5]\n",
            " [4.5 2.3]\n",
            " [4.4 3.2]\n",
            " [5.  3.5]\n",
            " [5.1 3.8]\n",
            " [4.8 3. ]\n",
            " [5.1 3.8]\n",
            " [4.6 3.2]\n",
            " [5.3 3.7]\n",
            " [5.  3.3]\n",
            " [7.  3.2]\n",
            " [6.4 3.2]\n",
            " [6.9 3.1]\n",
            " [5.5 2.3]\n",
            " [6.5 2.8]\n",
            " [5.7 2.8]\n",
            " [6.3 3.3]\n",
            " [4.9 2.4]\n",
            " [6.6 2.9]\n",
            " [5.2 2.7]\n",
            " [5.  2. ]\n",
            " [5.9 3. ]\n",
            " [6.  2.2]\n",
            " [6.1 2.9]\n",
            " [5.6 2.9]\n",
            " [6.7 3.1]\n",
            " [5.6 3. ]\n",
            " [5.8 2.7]\n",
            " [6.2 2.2]\n",
            " [5.6 2.5]\n",
            " [5.9 3.2]\n",
            " [6.1 2.8]\n",
            " [6.3 2.5]\n",
            " [6.1 2.8]\n",
            " [6.4 2.9]\n",
            " [6.6 3. ]\n",
            " [6.8 2.8]\n",
            " [6.7 3. ]\n",
            " [6.  2.9]\n",
            " [5.7 2.6]\n",
            " [5.5 2.4]\n",
            " [5.5 2.4]\n",
            " [5.8 2.7]\n",
            " [6.  2.7]\n",
            " [5.4 3. ]\n",
            " [6.  3.4]\n",
            " [6.7 3.1]\n",
            " [6.3 2.3]\n",
            " [5.6 3. ]\n",
            " [5.5 2.5]\n",
            " [5.5 2.6]\n",
            " [6.1 3. ]\n",
            " [5.8 2.6]\n",
            " [5.  2.3]\n",
            " [5.6 2.7]\n",
            " [5.7 3. ]\n",
            " [5.7 2.9]\n",
            " [6.2 2.9]\n",
            " [5.1 2.5]\n",
            " [5.7 2.8]]\n"
          ]
        }
      ]
    },
    {
      "cell_type": "code",
      "source": [
        "print('classes des donnes', classes)"
      ],
      "metadata": {
        "id": "oNsQvUZnzoUk",
        "colab": {
          "base_uri": "https://localhost:8080/"
        },
        "outputId": "3daf0f71-ed49-4a79-9275-49bc0e63374e"
      },
      "execution_count": 6,
      "outputs": [
        {
          "output_type": "stream",
          "name": "stdout",
          "text": [
            "classes des donnes [-1 -1 -1 -1 -1 -1 -1 -1 -1 -1 -1 -1 -1 -1 -1 -1 -1 -1 -1 -1 -1 -1 -1 -1\n",
            " -1 -1 -1 -1 -1 -1 -1 -1 -1 -1 -1 -1 -1 -1 -1 -1 -1 -1 -1 -1 -1 -1 -1 -1\n",
            " -1 -1  1  1  1  1  1  1  1  1  1  1  1  1  1  1  1  1  1  1  1  1  1  1\n",
            "  1  1  1  1  1  1  1  1  1  1  1  1  1  1  1  1  1  1  1  1  1  1  1  1\n",
            "  1  1  1  1]\n"
          ]
        }
      ]
    },
    {
      "cell_type": "code",
      "source": [
        "import matplotlib.pyplot as plt\n",
        "plt.plot(attributs[~pos_class, 0], attributs[~pos_class, 1], '*b')\n",
        "plt.plot(attributs[pos_class, 0], attributs[pos_class, 1], '*r')\n",
        "plt.legend(['Iris Setosa', 'Iris Versicolor'])\n",
        "plt.xlabel('Longueur sépale')\n",
        "plt.ylabel('Largeur sépale')\n",
        "plt.show()"
      ],
      "metadata": {
        "id": "S7i7wS2_ndKX",
        "colab": {
          "base_uri": "https://localhost:8080/",
          "height": 453
        },
        "outputId": "91767e30-8d32-4dcb-a871-080760d58d72"
      },
      "execution_count": 2,
      "outputs": [
        {
          "output_type": "display_data",
          "data": {
            "text/plain": [
              "<Figure size 640x480 with 1 Axes>"
            ],
            "image/png": "[encoded data removed]"
          },
          "metadata": {}
        }
      ]
    },
    {
      "cell_type": "markdown",
      "source": [
        "## Initialisation et affichage d'un neurone formel"
      ],
      "metadata": {
        "id": "wv1Bv8JX2xA5"
      }
    },
    {
      "cell_type": "code",
      "source": [
        "import numpy as np\n",
        "\n",
        "# On génère des poids d'un neurone formel aléatoirement\n",
        "w = np.random.randn(2)\n",
        "b = np.random.randn(1)"
      ],
      "metadata": {
        "id": "S6ykjCszF-lG"
      },
      "execution_count": 3,
      "outputs": []
    },
    {
      "cell_type": "code",
      "source": [
        "# On visualise les données et la ligne séparatrice produite par le neurone formel\n",
        "plt.plot(attributs[pos_class, 0], attributs[pos_class, 1], '*b')\n",
        "plt.plot(attributs[~pos_class, 0], attributs[~pos_class, 1], '*r')\n",
        "o = np.arange(np.min(attributs[:, 0]) - 1, np.max(attributs[:, 0]) + 1, .1)\n",
        "a = -(w[0] * o + b) / w[1]\n",
        "plt.plot(o, a, '-g')\n",
        "plt.legend(['Classe négative', 'Classe positive', 'Neurone formel'])\n",
        "plt.show()"
      ],
      "metadata": {
        "id": "eQt3oYkCLQgi",
        "colab": {
          "base_uri": "https://localhost:8080/",
          "height": 430
        },
        "outputId": "8c8b6b02-ae09-4fdd-a4c3-829b862972c5"
      },
      "execution_count": 47,
      "outputs": [
        {
          "output_type": "display_data",
          "data": {
            "text/plain": [
              "<Figure size 640x480 with 1 Axes>"
            ],
            "image/png": "[encoded data removed]"
          },
          "metadata": {}
        }
      ]
    },
    {
      "cell_type": "markdown",
      "source": [
        "## Exercices\n",
        "\n",
        "### 1\n",
        "Pour une certaine donnée $x_i$, afficher la classe $\\hat{y}_i$ prédite par le neurone formel. Pour ce faire vous pouvez utiliser la fonction `np.dot` qui calcule le produit scalaire entre deux vecteurs, et `np.sign` qui retourne le signe d'un réel.\n",
        "\n",
        "\n"
      ],
      "metadata": {
        "id": "EX8AgFGGL0Qw"
      }
    },
    {
      "cell_type": "code",
      "source": [
        "'''             Exemple d'utilisation de np.dot et np.sign           '''\n",
        "\n",
        "print('x_3', attributs[3])  # La quatrième donnée\n",
        "print(f'Produit scalaire entre x_3 et x_3 = {np.dot(attributs[3], attributs[3])}')\n",
        "print('Test de la fonction signe : ', np.sign(-9.34), np.sign(0.25))"
      ],
      "metadata": {
        "id": "H4dDfIMZPfLq",
        "colab": {
          "base_uri": "https://localhost:8080/"
        },
        "outputId": "448a183d-555e-49e7-baa6-4ccca3100c1d"
      },
      "execution_count": 5,
      "outputs": [
        {
          "output_type": "stream",
          "name": "stdout",
          "text": [
            "x_3 [4.6 3.1]\n",
            "Produit scalaire entre x_3 et x_3 = 30.769999999999996\n",
            "Test de la fonction signe :  -1.0 1.0\n"
          ]
        }
      ]
    },
    {
      "cell_type": "code",
      "source": [
        "i = 5\n",
        "prediction_xi = np.sign(np.dot(attributs[i],w)+b)\n",
        "print(f'donnée x_{i} : {attributs[i]}')\n",
        "print(f'classe y_{i} : {classes[i]}')\n",
        "print(f'classe prédite : {prediction_xi}')"
      ],
      "metadata": {
        "id": "_zgGrj51Lzbo",
        "colab": {
          "base_uri": "https://localhost:8080/"
        },
        "outputId": "09b0319d-8021-431e-fdf5-edb0a30f4e49"
      },
      "execution_count": 6,
      "outputs": [
        {
          "output_type": "stream",
          "name": "stdout",
          "text": [
            "donnée x_5 : [5.4 3.9]\n",
            "classe y_5 : -1\n",
            "classe prédite : [-1.]\n"
          ]
        }
      ]
    },
    {
      "cell_type": "markdown",
      "source": [
        "### 2\n",
        "Compter le nombre de mauvaises classifications. Est-ce que cela correspond à un décompte visuel sur le graphique plus haut?"
      ],
      "metadata": {
        "id": "QFux-sHqRumt"
      }
    },
    {
      "cell_type": "code",
      "source": [
        "def nombre_err():\n",
        "  nombre_err = 0\n",
        "  for i in range(100):\n",
        "    if (np.sign(np.dot(attributs[i],w)+b) != classes[i] != classes[i]):\n",
        "      nombre_err += 1\n",
        "  return nombre_err\n",
        "\n",
        "print(nombre_err())"
      ],
      "metadata": {
        "id": "6LZOMfXJYsUc",
        "outputId": "ca0a4de8-7f68-431c-a121-8eac54220f3a",
        "colab": {
          "base_uri": "https://localhost:8080/"
        }
      },
      "execution_count": 44,
      "outputs": [
        {
          "output_type": "stream",
          "name": "stdout",
          "text": [
            "0\n"
          ]
        }
      ]
    },
    {
      "cell_type": "markdown",
      "source": [
        "### 3\n",
        "Coder l'algorithme du perceptron puis visualiser le résultat. Augmenter le nombre d'itérations jusqu'à ce que toutes les données soient bien classées."
      ],
      "metadata": {
        "id": "-F1bkp76SgwR"
      }
    },
    {
      "cell_type": "code",
      "source": [
        "for y in range(2000):\n",
        "  for i in range(100):\n",
        "    if (np.sign(np.dot(attributs[i],w)+b) != classes[i]):\n",
        "      w = w + classes[i]*attributs[i] # w = w + yixi\n",
        "      b = b + classes[i] # b = b + yi\n",
        "print(w)\n",
        "print(b)\n",
        "print(nombre_err())\n",
        "\n",
        "# On visualise les données et la ligne séparatrice produite par le neurone formel\n",
        "plt.plot(attributs[pos_class, 0], attributs[pos_class, 1], '*b')\n",
        "plt.plot(attributs[~pos_class, 0], attributs[~pos_class, 1], '*r')\n",
        "o = np.arange(np.min(attributs[:, 0]) - 1, np.max(attributs[:, 0]) + 1, .1)\n",
        "a = -(w[0] * o + b) / w[1]\n",
        "plt.plot(o, a, '-g')\n",
        "plt.legend(['Classe négative', 'Classe positive', 'Neurone formel'])\n",
        "plt.show()"
      ],
      "metadata": {
        "id": "R1s4n_FMaBKU",
        "outputId": "974928f1-8f58-49ec-a5ab-efbfd19271a9",
        "colab": {
          "base_uri": "https://localhost:8080/",
          "height": 482
        }
      },
      "execution_count": 50,
      "outputs": [
        {
          "output_type": "stream",
          "name": "stdout",
          "text": [
            "[  79.2403744  -100.48097228]\n",
            "[-125.66426643]\n",
            "0\n"
          ]
        },
        {
          "output_type": "display_data",
          "data": {
            "text/plain": [
              "<Figure size 640x480 with 1 Axes>"
            ],
            "image/png": "[encoded data removed]"
          },
          "metadata": {}
        }
      ]
    },
    {
      "cell_type": "markdown",
      "source": [
        "### 4\n",
        "\n",
        "Partant de $\\theta_0 = (b_0, w_0) = 0$, lancer l'algorithme du perceptron et après chaque mise à jour $k$ où $(x^{k}, y^{k})$ est la donnée mal classée ayant provoqué la mise à jour\n",
        "- Verifier si $y^{k}(w_{t+1}\\cdot x^{k} + b_{t+1}) > y^{k}(w_{t}\\cdot x^{k} + b_{t})$.\n",
        "- Vérifier si $y^{k'}(w_{t+1}\\cdot x^{k'} + b_{t+1}) > y^{k'}(w_{t}\\cdot x^{k'} + b_{t})$ pour tout $k' \\neq k$"
      ],
      "metadata": {
        "id": "gI3UBCtibClH"
      }
    },
    {
      "cell_type": "markdown",
      "source": [
        "### 5\n",
        "\n",
        "Relancer votre code avec les données ci-dessous, générées aléatoirement. Vérifier que le Perceptron trouve un classifieur pour ces données."
      ],
      "metadata": {
        "id": "UelezZ9a1_40"
      }
    },
    {
      "cell_type": "code",
      "source": [
        "data_per_class = 15  # on génère 15 points par classe\n",
        "attributs = np.vstack([np.random.randn(data_per_class, 2) + np.array([[0, 3]]), np.random.randn(data_per_class, 2) + np.array([[3, 0]])])\n",
        "classes = np.hstack([np.ones(data_per_class), -1 * np.ones(data_per_class)])\n",
        "pos_class = classes == 1"
      ],
      "metadata": {
        "id": "D8T1w2Vv1-cM"
      },
      "execution_count": null,
      "outputs": []
    },
    {
      "cell_type": "markdown",
      "source": [
        "### 6\n",
        "\n",
        "Modifier les attributs d'une des données de sorte que les données ne soient plus linéairement séparables. Vérifier que la solution retournée par le Perceptron ne classifie plus toutes les données correctement."
      ],
      "metadata": {
        "id": "fdiUlSx_esE4"
      }
    }
  ]
}