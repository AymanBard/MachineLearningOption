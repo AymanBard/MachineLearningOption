{
  "nbformat": 4,
  "nbformat_minor": 0,
  "metadata": {
    "colab": {
      "provenance": [],
      "toc_visible": true,
      "include_colab_link": true
    },
    "kernelspec": {
      "name": "python3",
      "display_name": "Python 3"
    },
    "language_info": {
      "name": "python"
    }
  },
  "cells": [
    {
      "cell_type": "markdown",
      "metadata": {
        "id": "view-in-github",
        "colab_type": "text"
      },
      "source": [
        "<a href=\"https://colab.research.google.com/github/AymanBard/MachineLearningOption/blob/main/%5B05%5D_Regression_non_lineaire.ipynb\" target=\"_parent\"><img src=\"https://colab.research.google.com/assets/colab-badge.svg\" alt=\"Open In Colab\"/></a>"
      ]
    },
    {
      "cell_type": "markdown",
      "source": [
        "# La régression non-linéaire avec PyTorch\n",
        "On génère en premier lieu un jeu de données synthétique de régression qui requiert un réseau de neuronnes non-linéaire pour être correctement approximé."
      ],
      "metadata": {
        "id": "7gXcJzPx7MV_"
      }
    },
    {
      "cell_type": "code",
      "source": [
        "import torch\n",
        "import matplotlib.pyplot as plt\n",
        "nb_points = 32\n",
        "data_x = torch.rand(nb_points, 1)\n",
        "data_y = torch.cos(10 * data_x) + torch.randn(nb_points, 1) * .1\n",
        "\n",
        "plt.plot(data_x, data_y, '*b')\n",
        "plt.show()"
      ],
      "metadata": {
        "id": "x8oD15ET7jXh",
        "colab": {
          "base_uri": "https://localhost:8080/",
          "height": 430
        },
        "outputId": "53f36b9d-a5d8-40cb-8f99-1b262d68a062"
      },
      "execution_count": null,
      "outputs": [
        {
          "output_type": "display_data",
          "data": {
            "text/plain": [
              "<Figure size 640x480 with 1 Axes>"
            ],
            "image/png": "[encoded data removed]"
          },
          "metadata": {}
        }
      ]
    },
    {
      "cell_type": "markdown",
      "source": [
        "## Exercices\n"
      ],
      "metadata": {
        "id": "llyY4stWruJi"
      }
    },
    {
      "cell_type": "markdown",
      "source": [
        "### 1.\n",
        "Programmer un réseau de neurones non-linéaire avec au moins une couche cachée. Étendre la classe [`torch.nn.Module`](https://pytorch.org/docs/stable/generated/torch.nn.Module.html) et utiliser [`torch.nn.Linear`](https://pytorch.org/docs/stable/generated/torch.nn.Linear.html) pour la fonction linéaire, et [`torch.nn.ReLU`](https://pytorch.org/docs/stable/generated/torch.nn.ReLU.html) ou [`torch.nn.Tanh`](https://pytorch.org/docs/stable/generated/torch.nn.Tanh.html) pour la non-linéarité."
      ],
      "metadata": {
        "id": "eeyRZeK97vje"
      }
    },
    {
      "cell_type": "code",
      "source": [
        "class ReseauNeurones(torch.nn.Module):\n",
        "  '''\n",
        "   in_dim : dimension des attributs,\n",
        "   h_dim : taille de la couche cachée,\n",
        "   out_dim : dimension des données de supervision.\n",
        "  '''\n",
        "  def __init__(self, in_dim, h_dim, out_dim):\n",
        "    super().__init__()\n",
        "    # Créer des instances des fonctions linéaires et non-linéaires ici\n",
        "\n",
        "  # forward : retourne la prédiction f(x) du modèle sur les données x\n",
        "  def forward(self, x):\n",
        "    # x : matrice de taille [K, IN_DIM]\n",
        "    pass\n"
      ],
      "metadata": {
        "id": "KeOGg6pG81v3"
      },
      "execution_count": null,
      "outputs": []
    },
    {
      "cell_type": "code",
      "source": [
        "f = torch.nn.Linear(13, 2)\n",
        "x = torch.randn(50, 13)\n",
        "print(f(x).shape)\n",
        "print(f.weight.shape)"
      ],
      "metadata": {
        "colab": {
          "base_uri": "https://localhost:8080/"
        },
        "id": "CabZXPR0IVAk",
        "outputId": "1da8f688-bc35-465a-ee42-199fe0157b85"
      },
      "execution_count": null,
      "outputs": [
        {
          "output_type": "stream",
          "name": "stdout",
          "text": [
            "torch.Size([50, 2])\n",
            "torch.Size([2, 13])\n"
          ]
        }
      ]
    },
    {
      "cell_type": "markdown",
      "source": [
        "**Affichage du modèle**"
      ],
      "metadata": {
        "id": "KPU2H12qiCx9"
      }
    },
    {
      "cell_type": "code",
      "source": [
        "model = ReseauNeurones(1, 50, 1)"
      ],
      "metadata": {
        "id": "J9oHpTwdH0VF"
      },
      "execution_count": null,
      "outputs": []
    },
    {
      "cell_type": "code",
      "source": [
        "import matplotlib.pyplot as plt\n",
        "plt.plot(data_x, data_y, '*b')\n",
        "o = torch.arange(0, 1, .01).unsqueeze(1)\n",
        "a = model(o).detach()\n",
        "plt.plot(o.squeeze(), a.squeeze(), '-g')\n"
      ],
      "metadata": {
        "id": "2emZ0JtXaUfA"
      },
      "execution_count": null,
      "outputs": []
    },
    {
      "cell_type": "markdown",
      "source": [
        "### 2.\n",
        "\n",
        "Optimiser les paramètres du modèle pour minimiser l'erreur quadratique moyenne.\n",
        "\n",
        "Utiliser pour cela la classe [`torch.optim.SGD`](https://pytorch.org/docs/stable/generated/torch.optim.SGD.html) qui implémente la descente de gradient et automatise les opérations de torch comme mettre le champs `.grad` à zéro.\n",
        "\n",
        "La classe `torch.nn.SGD` s'utilise de cette façon\n",
        "\n",
        "*   Créer une instance de la class avec `optim = torch.optim.SGD(model.parameters(), lr=alpha)`, où la fonction `model.parameters()` va retourner un `iterator` de tous les paramètres du `model`. Cette fonction est déjà définie pour la classe `ReseauNeurones` par héritage. Le deuxième paramètre est le pas de gradient (learning rate en anglais).\n",
        "*   La fonction `optim.zero_grad()` qui va parcourir tous les `tensor` retournés par `model.parameters()` et mettre la champs `.grad` à zéro.\n",
        "*   La fonction `optim.step()` va faire la mise à jour de la descente de gradient. Il faut avoir appelé au préalable dans votre code la fonction `backward()`\n",
        "\n"
      ],
      "metadata": {
        "id": "jcgbpO4RWkYu"
      }
    },
    {
      "cell_type": "code",
      "source": [
        "model = ReseauNeurones(1, 100, 1)\n",
        "# Régression non-linéaire"
      ],
      "metadata": {
        "id": "QAhpEfZmG4Bk"
      },
      "execution_count": null,
      "outputs": []
    },
    {
      "cell_type": "markdown",
      "source": [
        "### 3. Données réelles"
      ],
      "metadata": {
        "id": "96BxSGIb577W"
      }
    },
    {
      "cell_type": "markdown",
      "source": [
        "Apprendre un modèle prédictif sur le jeu de données `diabetes`. Quel score $R^2$ vous obtenez avec un réseau de neurones?"
      ],
      "metadata": {
        "id": "ULjCdgmp6ApP"
      }
    },
    {
      "cell_type": "code",
      "source": [
        "from sklearn.datasets import load_diabetes\n",
        "\n",
        "data = load_diabetes()\n"
      ],
      "metadata": {
        "id": "oHT4_Yv25-UP"
      },
      "execution_count": null,
      "outputs": []
    }
  ]
}